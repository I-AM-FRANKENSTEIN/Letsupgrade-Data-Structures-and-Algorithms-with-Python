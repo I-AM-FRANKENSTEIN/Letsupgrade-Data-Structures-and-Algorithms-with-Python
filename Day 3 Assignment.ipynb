{
 "cells": [
  {
   "cell_type": "raw",
   "metadata": {},
   "source": [
    "Q1"
   ]
  },
  {
   "cell_type": "code",
   "execution_count": 1,
   "metadata": {},
   "outputs": [
    {
     "name": "stdout",
     "output_type": "stream",
     "text": [
      "Enter first number:5\n",
      "Enter second number:3\n",
      "Sum is: 8\n"
     ]
    }
   ],
   "source": [
    "class Test:\n",
    "    def findsum(self, a, b):\n",
    "        s = a + b\n",
    "        return s\n",
    "a = int(input(\"Enter first number:\"))\n",
    "b = int(input(\"Enter second number:\"))\n",
    "obj = Test()\n",
    "s = obj.findsum(a, b)\n",
    "print(\"Sum is:\", s)"
   ]
  },
  {
   "cell_type": "raw",
   "metadata": {},
   "source": [
    "Q2"
   ]
  },
  {
   "cell_type": "code",
   "execution_count": 2,
   "metadata": {},
   "outputs": [
    {
     "name": "stdout",
     "output_type": "stream",
     "text": [
      "Enter the first number: 8\n",
      "Enter the second number: 9\n",
      "Swapped value of x is 9 & y is 8\n"
     ]
    }
   ],
   "source": [
    "def swap(a, b):\n",
    "    t = a\n",
    "    a = b\n",
    "    b = t\n",
    "    return a, b\n",
    "a = float(input(\"Enter the first number: \"))\n",
    "b = float(input(\"Enter the second number: \"))\n",
    "a, b = swap(a, b)\n",
    "print(\"Swapped value of x is %d & y is %d\" %(a,b))"
   ]
  }
 ],
 "metadata": {
  "kernelspec": {
   "display_name": "Python 3",
   "language": "python",
   "name": "python3"
  },
  "language_info": {
   "codemirror_mode": {
    "name": "ipython",
    "version": 3
   },
   "file_extension": ".py",
   "mimetype": "text/x-python",
   "name": "python",
   "nbconvert_exporter": "python",
   "pygments_lexer": "ipython3",
   "version": "3.8.3"
  }
 },
 "nbformat": 4,
 "nbformat_minor": 4
}
