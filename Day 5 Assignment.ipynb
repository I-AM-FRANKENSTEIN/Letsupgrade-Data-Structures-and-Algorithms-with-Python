{
 "cells": [
  {
   "cell_type": "raw",
   "metadata": {},
   "source": [
    "Q1"
   ]
  },
  {
   "cell_type": "code",
   "execution_count": null,
   "metadata": {},
   "outputs": [],
   "source": [
    "\"\"\"\n",
    "Sorting Algorithms     Best     Average     Worst\n",
    "\n",
    "Quick Sort            O(nlogn)  O(nlogn)    O(n^2)\n",
    "Insertion Sort         O(n)      O(n^2)     O(n^2)\n",
    "Merge Sort            O(nlogn)  O(nlogn)   O(nlogn)\n",
    "Selection Sort        O(n^2)     O(n^2)     O(n^2)\n",
    "Heap Sort             O(nlogn)  O(nlogn)   O(nlogn)\n",
    "\n",
    "\"\"\""
   ]
  },
  {
   "cell_type": "raw",
   "metadata": {},
   "source": [
    "Q2"
   ]
  },
  {
   "cell_type": "code",
   "execution_count": 1,
   "metadata": {},
   "outputs": [
    {
     "name": "stdout",
     "output_type": "stream",
     "text": [
      "Sorted Array in Ascending Order:\n",
      "[-9, -2, 0, 11, 45]\n"
     ]
    }
   ],
   "source": [
    "def selectionSort(array, size):\n",
    "    for step in range(size):\n",
    "        min_idx = step\n",
    "        for i in range(step + 1, size):\n",
    "            if array[i] < array[min_idx]:\n",
    "                min_idx = i\n",
    "        (array[step], array[min_idx]) = (array[min_idx], array[step])\n",
    "data = [-2, 45, 0, 11, -9]\n",
    "size = len(data)\n",
    "selectionSort(data, size)\n",
    "print('Sorted Array in Ascending Order:')\n",
    "print(data)"
   ]
  },
  {
   "cell_type": "raw",
   "metadata": {},
   "source": [
    "Q3"
   ]
  },
  {
   "cell_type": "code",
   "execution_count": 2,
   "metadata": {},
   "outputs": [
    {
     "name": "stdout",
     "output_type": "stream",
     "text": [
      "Initial stack\n",
      "['a', 'b', 'c']\n",
      "\n",
      "Elements poped from stack:\n",
      "c\n",
      "b\n",
      "a\n",
      "\n",
      "Stack after elements are poped:\n",
      "[]\n"
     ]
    }
   ],
   "source": [
    "stack = []\n",
    "stack.append('a')\n",
    "stack.append('b')\n",
    "stack.append('c')\n",
    "print('Initial stack')\n",
    "print(stack)\n",
    "print('\\nElements poped from stack:')\n",
    "print(stack.pop())\n",
    "print(stack.pop())\n",
    "print(stack.pop())\n",
    "print('\\nStack after elements are poped:')\n",
    "print(stack)"
   ]
  },
  {
   "cell_type": "raw",
   "metadata": {},
   "source": [
    "Q4"
   ]
  },
  {
   "cell_type": "code",
   "execution_count": 3,
   "metadata": {},
   "outputs": [
    {
     "name": "stdout",
     "output_type": "stream",
     "text": [
      "Initial queue\n",
      "deque(['a', 'b', 'c'])\n",
      "\n",
      "Elements dequeued from the queue\n",
      "a\n",
      "b\n",
      "c\n",
      "\n",
      "Queue after removing elements\n",
      "deque([])\n"
     ]
    }
   ],
   "source": [
    "from collections import deque\n",
    "q = deque()\n",
    "q.append('a')\n",
    "q.append('b')\n",
    "q.append('c')\n",
    "print(\"Initial queue\")\n",
    "print(q)\n",
    "print(\"\\nElements dequeued from the queue\")\n",
    "print(q.popleft())\n",
    "print(q.popleft())\n",
    "print(q.popleft())\n",
    "print(\"\\nQueue after removing elements\")\n",
    "print(q)"
   ]
  }
 ],
 "metadata": {
  "kernelspec": {
   "display_name": "Python 3",
   "language": "python",
   "name": "python3"
  },
  "language_info": {
   "codemirror_mode": {
    "name": "ipython",
    "version": 3
   },
   "file_extension": ".py",
   "mimetype": "text/x-python",
   "name": "python",
   "nbconvert_exporter": "python",
   "pygments_lexer": "ipython3",
   "version": "3.8.3"
  }
 },
 "nbformat": 4,
 "nbformat_minor": 4
}
