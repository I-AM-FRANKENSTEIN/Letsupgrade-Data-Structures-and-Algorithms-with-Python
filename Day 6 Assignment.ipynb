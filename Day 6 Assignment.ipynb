{
 "cells": [
  {
   "cell_type": "raw",
   "metadata": {},
   "source": [
    "Q1"
   ]
  },
  {
   "cell_type": "code",
   "execution_count": 8,
   "metadata": {},
   "outputs": [
    {
     "name": "stdout",
     "output_type": "stream",
     "text": [
      "Enter number of elements : 4\n",
      "100\n",
      "10\n",
      "12\n",
      "1000\n",
      "\n",
      " [100, 10, 12, 1000]\n",
      "\n",
      " 12000000\n"
     ]
    }
   ],
   "source": [
    "lst = [] \n",
    "n = int(input(\"Enter number of elements : \")) \n",
    "for i in range(0, n): \n",
    "    ele = int(input()) \n",
    "    lst.append(ele)\n",
    "print(\"\\n\",lst)\n",
    "result=1\n",
    "for x in lst:\n",
    "        result = result * x \n",
    "print(\"\\n\",result)"
   ]
  },
  {
   "cell_type": "raw",
   "metadata": {},
   "source": [
    "Q2"
   ]
  },
  {
   "cell_type": "code",
   "execution_count": 1,
   "metadata": {},
   "outputs": [
    {
     "name": "stdout",
     "output_type": "stream",
     "text": [
      "Number Inserted: 3\n",
      "Number Inserted: 5\n",
      "Minimum Element in the stack is: 3\n",
      "Number Inserted: 2\n",
      "Number Inserted: 1\n",
      "Minimum Element in the stack is: 1\n",
      "Top Most Element Removed :1 \n",
      "Minimum Element in the stack is: 2\n",
      "Top Most Element Removed :2 \n",
      "Top Most Element is: 5\n"
     ]
    }
   ],
   "source": [
    "class Node: \n",
    "    def __init__(self, value): \n",
    "        self.value = value \n",
    "        self.next = None\n",
    "    def __str__(self): \n",
    "        return \"Node({})\".format(self.value) \n",
    "    __repr__ = __str__ \n",
    "class Stack: \n",
    "    def __init__(self): \n",
    "        self.top = None\n",
    "        self.count = 0\n",
    "        self.minimum = None\n",
    "    def __str__(self): \n",
    "        temp = self.top \n",
    "        out = [] \n",
    "        while temp: \n",
    "            out.append(str(temp.value)) \n",
    "            temp = temp.next\n",
    "        out = '\\n'.join(out) \n",
    "        return ('Top {} \\n\\nStack :\\n{}'.format(self.top,out)) \n",
    "    __repr__=__str__  \n",
    "    def getMin(self): \n",
    "        if self.top is None: \n",
    "            return \"Stack is empty\"\n",
    "        else: \n",
    "            print(\"Minimum Element in the stack is: {}\" .format(self.minimum)) \n",
    "    def isEmpty(self): \n",
    "        if self.top == None: \n",
    "            return True\n",
    "        else:  \n",
    "            return False \n",
    "    def __len__(self): \n",
    "        self.count = 0\n",
    "        tempNode = self.top \n",
    "        while tempNode: \n",
    "            tempNode = tempNode.next\n",
    "            self.count+=1\n",
    "        return self.count \n",
    "    def peek(self): \n",
    "        if self.top is None: \n",
    "            print (\"Stack is empty\") \n",
    "        else: \n",
    "            if self.top.value < self.minimum: \n",
    "                print(\"Top Most Element is: {}\" .format(self.minimum)) \n",
    "            else: \n",
    "                print(\"Top Most Element is: {}\" .format(self.top.value)) \n",
    "    def push(self,value): \n",
    "        if self.top is None: \n",
    "            self.top = Node(value) \n",
    "            self.minimum = value \n",
    "        elif value < self.minimum: \n",
    "            temp = (2 * value) - self.minimum \n",
    "            new_node = Node(temp) \n",
    "            new_node.next = self.top \n",
    "            self.top = new_node \n",
    "            self.minimum = value \n",
    "        else: \n",
    "            new_node = Node(value) \n",
    "            new_node.next = self.top \n",
    "            self.top = new_node \n",
    "        print(\"Number Inserted: {}\" .format(value)) \n",
    "    def pop(self): \n",
    "        if self.top is None: \n",
    "            print( \"Stack is empty\") \n",
    "        else: \n",
    "            removedNode = self.top.value \n",
    "            self.top = self.top.next\n",
    "            if removedNode < self.minimum: \n",
    "                print (\"Top Most Element Removed :{} \" .format(self.minimum)) \n",
    "                self.minimum = ( ( 2 * self.minimum ) - removedNode ) \n",
    "            else: \n",
    "                print (\"Top Most Element Removed : {}\" .format(removedNode)) \n",
    "stack = Stack() \n",
    "stack.push(3) \n",
    "stack.push(5) \n",
    "stack.getMin() \n",
    "stack.push(2) \n",
    "stack.push(1) \n",
    "stack.getMin()\t \n",
    "stack.pop() \n",
    "stack.getMin() \n",
    "stack.pop() \n",
    "stack.peek() "
   ]
  }
 ],
 "metadata": {
  "kernelspec": {
   "display_name": "Python 3",
   "language": "python",
   "name": "python3"
  },
  "language_info": {
   "codemirror_mode": {
    "name": "ipython",
    "version": 3
   },
   "file_extension": ".py",
   "mimetype": "text/x-python",
   "name": "python",
   "nbconvert_exporter": "python",
   "pygments_lexer": "ipython3",
   "version": "3.8.3"
  }
 },
 "nbformat": 4,
 "nbformat_minor": 4
}
