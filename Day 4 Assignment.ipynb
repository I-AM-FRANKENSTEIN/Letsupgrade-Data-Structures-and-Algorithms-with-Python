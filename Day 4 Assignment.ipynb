{
 "cells": [
  {
   "cell_type": "raw",
   "metadata": {},
   "source": [
    "Q1"
   ]
  },
  {
   "cell_type": "code",
   "execution_count": 13,
   "metadata": {},
   "outputs": [
    {
     "name": "stdout",
     "output_type": "stream",
     "text": [
      "8 23 11 29 "
     ]
    }
   ],
   "source": [
    "import sys \n",
    "import math \n",
    "class Node: \n",
    "    def __init__(self, data): \n",
    "        self.data = data \n",
    "        self.next = None\n",
    "def push(head, data): \n",
    "    if not head: \n",
    "        return Node(data) \n",
    "    temp = Node(data) \n",
    "    temp.next = head \n",
    "    head = temp \n",
    "    return head \n",
    "def removeLastNode(head): \n",
    "    if head == None: \n",
    "        return None\n",
    "    if head.next == None: \n",
    "        head = None\n",
    "        return None\n",
    "    second_last = head \n",
    "    while(second_last.next.next): \n",
    "        second_last = second_last.next\n",
    "    second_last.next = None\n",
    "    return head \n",
    "if __name__=='__main__': \n",
    "    head = None\n",
    "    head = push(head, 12) \n",
    "    head = push(head, 29) \n",
    "    head = push(head, 11) \n",
    "    head = push(head, 23) \n",
    "    head = push(head, 8) \n",
    "\n",
    "    head = removeLastNode(head) \n",
    "    while(head): \n",
    "        print(\"{} \".format(head.data), end =\"\") \n",
    "        head = head.next"
   ]
  },
  {
   "cell_type": "code",
   "execution_count": null,
   "metadata": {},
   "outputs": [],
   "source": [
    "Q2"
   ]
  },
  {
   "cell_type": "code",
   "execution_count": 11,
   "metadata": {},
   "outputs": [
    {
     "name": "stdout",
     "output_type": "stream",
     "text": [
      "Element is present at index 3\n"
     ]
    }
   ],
   "source": [
    "def binary_search(arr, low, high, x): \n",
    "    if high >= low: \n",
    "        mid = (high + low) // 2\n",
    "        if arr[mid] == x: \n",
    "            return mid  \n",
    "        elif arr[mid] > x: \n",
    "            return binary_search(arr, low, mid - 1, x)  \n",
    "        else: \n",
    "            return binary_search(arr, mid + 1, high, x) \n",
    "    else: \n",
    "        return -1\n",
    "arr = [ 2, 3, 4, 10, 40 ] \n",
    "x = 10\n",
    "result = binary_search(arr, 0, len(arr)-1, x) \n",
    "if result != -1: \n",
    "    print(\"Element is present at index\", str(result)) \n",
    "else: \n",
    "    print(\"Element is not present in array\") \n"
   ]
  },
  {
   "cell_type": "code",
   "execution_count": null,
   "metadata": {},
   "outputs": [],
   "source": [
    "Q3"
   ]
  },
  {
   "cell_type": "code",
   "execution_count": 10,
   "metadata": {},
   "outputs": [
    {
     "name": "stdout",
     "output_type": "stream",
     "text": [
      "The middle element is:  2\n"
     ]
    }
   ],
   "source": [
    "class Node: \n",
    "    def __init__(self, data): \n",
    "        self.data = data \n",
    "        self.next = None\n",
    "\n",
    "class LinkedList: \n",
    "    def __init__(self): \n",
    "        self.head = None\n",
    "    def push(self, new_data): \n",
    "        new_node = Node(new_data) \n",
    "        new_node.next = self.head \n",
    "        self.head = new_node \n",
    "    def printMiddle(self): \n",
    "        slow_ptr = self.head \n",
    "        fast_ptr = self.head \n",
    "        if self.head is not None: \n",
    "            while (fast_ptr is not None and fast_ptr.next is not None): \n",
    "                fast_ptr = fast_ptr.next.next\n",
    "                slow_ptr = slow_ptr.next\n",
    "            print(\"The middle element is: \", slow_ptr.data)  \n",
    "list1 = LinkedList() \n",
    "list1.push(5) \n",
    "list1.push(4) \n",
    "list1.push(2) \n",
    "list1.push(3) \n",
    "list1.push(1) \n",
    "list1.printMiddle() "
   ]
  }
 ],
 "metadata": {
  "kernelspec": {
   "display_name": "Python 3",
   "language": "python",
   "name": "python3"
  },
  "language_info": {
   "codemirror_mode": {
    "name": "ipython",
    "version": 3
   },
   "file_extension": ".py",
   "mimetype": "text/x-python",
   "name": "python",
   "nbconvert_exporter": "python",
   "pygments_lexer": "ipython3",
   "version": "3.8.3"
  }
 },
 "nbformat": 4,
 "nbformat_minor": 4
}
