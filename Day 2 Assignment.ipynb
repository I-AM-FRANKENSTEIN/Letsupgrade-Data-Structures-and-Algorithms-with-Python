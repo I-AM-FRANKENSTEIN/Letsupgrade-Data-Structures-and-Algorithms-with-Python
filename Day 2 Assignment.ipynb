{
 "cells": [
  {
   "cell_type": "raw",
   "metadata": {},
   "source": [
    "Q1"
   ]
  },
  {
   "cell_type": "code",
   "execution_count": 18,
   "metadata": {},
   "outputs": [
    {
     "name": "stdout",
     "output_type": "stream",
     "text": [
      "[10, 4, 66]\n"
     ]
    }
   ],
   "source": [
    "l=[10, 21, 4, 45, 66, 93]\n",
    "elist=[]\n",
    "for num in l:  \n",
    "    if num%2== 0: \n",
    "     elist.append(int(num))\n",
    "print(elist)"
   ]
  },
  {
   "cell_type": "raw",
   "metadata": {},
   "source": [
    "Q2"
   ]
  },
  {
   "cell_type": "code",
   "execution_count": 70,
   "metadata": {},
   "outputs": [
    {
     "name": "stdout",
     "output_type": "stream",
     "text": [
      "          1  \n",
      "        2 2  \n",
      "      3 3 3  \n",
      "    4 4 4 4  \n",
      "  5 5 5 5 5  \n"
     ]
    }
   ],
   "source": [
    "rows = 6\n",
    "num=1\n",
    "for row in range(1, rows):\n",
    "    for j in range(rows, 0, -1):\n",
    "        if j > row:\n",
    "            print(\" \", end=' ')\n",
    "        else:\n",
    "            print(num, end=' ')\n",
    "    num+=1        \n",
    "    print(\" \")"
   ]
  }
 ],
 "metadata": {
  "kernelspec": {
   "display_name": "Python 3",
   "language": "python",
   "name": "python3"
  },
  "language_info": {
   "codemirror_mode": {
    "name": "ipython",
    "version": 3
   },
   "file_extension": ".py",
   "mimetype": "text/x-python",
   "name": "python",
   "nbconvert_exporter": "python",
   "pygments_lexer": "ipython3",
   "version": "3.8.3"
  }
 },
 "nbformat": 4,
 "nbformat_minor": 4
}
